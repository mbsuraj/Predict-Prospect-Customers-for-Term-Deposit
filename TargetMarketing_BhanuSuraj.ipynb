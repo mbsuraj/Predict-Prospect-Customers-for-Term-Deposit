{
  "nbformat": 4,
  "nbformat_minor": 0,
  "metadata": {
    "colab": {
      "name": "TargetMarketing_BhanuSuraj.ipynb",
      "provenance": []
    },
    "kernelspec": {
      "name": "python3",
      "display_name": "Python 3"
    }
  },
  "cells": [
    {
      "cell_type": "code",
      "metadata": {
        "id": "7uqQVsz9BjcS",
        "colab_type": "code",
        "outputId": "d66971d1-5dc1-4849-a399-1f472c86ecdc",
        "colab": {
          "base_uri": "https://localhost:8080/",
          "height": 68
        }
      },
      "source": [
        "import pandas as pd\n",
        "import numpy as np\n",
        "from sklearn.ensemble import RandomForestClassifier\n",
        "from sklearn.tree import DecisionTreeClassifier\n",
        "from sklearn.model_selection import GridSearchCV\n",
        "from sklearn.model_selection import RandomizedSearchCV\n",
        "from sklearn.preprocessing import label_binarize\n",
        "from sklearn.model_selection import cross_val_score\n",
        "from sklearn.metrics import classification_report, confusion_matrix, roc_curve, auc\n",
        "import matplotlib.pyplot as plt\n",
        "\n",
        "import warnings\n",
        "warnings.filterwarnings(\"ignore\")\n",
        "\n",
        "from google.colab import drive\n",
        "drive.mount('/gdrive')\n",
        "%cd / gdrive"
      ],
      "execution_count": 6,
      "outputs": [
        {
          "output_type": "stream",
          "text": [
            "Drive already mounted at /gdrive; to attempt to forcibly remount, call drive.mount(\"/gdrive\", force_remount=True).\n",
            "[Errno 2] No such file or directory: '/ gdrive'\n",
            "/content\n"
          ],
          "name": "stdout"
        }
      ]
    },
    {
      "cell_type": "code",
      "metadata": {
        "id": "SiTe7l9MFf0q",
        "colab_type": "code",
        "outputId": "5d7d179d-cfa4-4a23-c5ce-955059515e4f",
        "colab": {
          "base_uri": "https://localhost:8080/",
          "height": 85
        }
      },
      "source": [
        "trainfile = r'/gdrive/My Drive/Assignments/Assignment2/TargetMarketing/TRAIN.csv'\n",
        "testfile = r'/gdrive/My Drive/Assignments/Assignment2/TargetMarketing/TEST.csv'\n",
        "\n",
        "trainData = pd.read_csv(trainfile)\n",
        "testData = pd.read_csv(testfile)\n",
        "\n",
        "print(trainData.columns)\n"
      ],
      "execution_count": 7,
      "outputs": [
        {
          "output_type": "stream",
          "text": [
            "Index(['age', 'job', 'marital', 'education', 'default', 'balance', 'housing',\n",
            "       'loan', 'contact', 'day', 'month', 'duration', 'campaign', 'pdays',\n",
            "       'previous', 'poutcome', 'y'],\n",
            "      dtype='object')\n"
          ],
          "name": "stdout"
        }
      ]
    },
    {
      "cell_type": "code",
      "metadata": {
        "id": "Div-eRYNHmeU",
        "colab_type": "code",
        "outputId": "ae8bf635-882a-4fce-a990-991430292c1b",
        "colab": {
          "base_uri": "https://localhost:8080/",
          "height": 493
        }
      },
      "source": [
        "#hot encoding\n",
        "trainData_copy = trainData.iloc[:, :-1]\n",
        "testData_copy = testData.iloc[:, :-1]\n",
        "categoricalFeatures = ['job', 'marital', 'education', 'default', 'housing', 'loan', 'contact', 'month', 'poutcome']\n",
        "\n",
        "combined_Data = pd.concat([trainData_copy, testData_copy], keys= [0,1])\n",
        "combined_Data = pd.get_dummies(combined_Data,columns = categoricalFeatures )\n",
        "\n",
        "X_train = combined_Data.xs(0) \n",
        "X_test = combined_Data.xs(1)\n",
        "\n",
        "Y_train = trainData[\"y\"]\n",
        "Y_test = testData[\"y\"]\n",
        "\n",
        "print(X_train.head())\n",
        "print(Y_train.head())\n",
        "print(X_test.head())\n",
        "print(Y_test.head())"
      ],
      "execution_count": 9,
      "outputs": [
        {
          "output_type": "stream",
          "text": [
            "   age  balance  day  ...  poutcome_other  poutcome_success  poutcome_unknown\n",
            "0   30     1787   19  ...               0                 0                 1\n",
            "1   33     4789   11  ...               0                 0                 0\n",
            "2   35     1350   16  ...               0                 0                 0\n",
            "3   30     1476    3  ...               0                 0                 1\n",
            "4   59        0    5  ...               0                 0                 1\n",
            "\n",
            "[5 rows x 51 columns]\n",
            "0    no\n",
            "1    no\n",
            "2    no\n",
            "3    no\n",
            "4    no\n",
            "Name: y, dtype: object\n",
            "   age  balance  day  ...  poutcome_other  poutcome_success  poutcome_unknown\n",
            "0   58     2143    5  ...               0                 0                 1\n",
            "1   44       29    5  ...               0                 0                 1\n",
            "2   33        2    5  ...               0                 0                 1\n",
            "3   47     1506    5  ...               0                 0                 1\n",
            "4   33        1    5  ...               0                 0                 1\n",
            "\n",
            "[5 rows x 51 columns]\n",
            "0    no\n",
            "1    no\n",
            "2    no\n",
            "3    no\n",
            "4    no\n",
            "Name: y, dtype: object\n"
          ],
          "name": "stdout"
        }
      ]
    },
    {
      "cell_type": "code",
      "metadata": {
        "id": "zbxIRa-UFf4-",
        "colab_type": "code",
        "outputId": "7f9882aa-5e54-4b68-e2cf-6b0a7b0df46f",
        "colab": {
          "base_uri": "https://localhost:8080/",
          "height": 238
        }
      },
      "source": [
        "#normal prediction using Decision Tree Classifier \n",
        "clf = DecisionTreeClassifier()\n",
        "clf.fit(X_train, Y_train)\n",
        "X_train.copy()\n",
        "clf_predict = clf.predict(X_test)\n",
        "print(\"---Normal Decision Tree Classifier: \")\n",
        "print(\"Classification Report\")\n",
        "print(confusion_matrix(Y_test, clf_predict))\n",
        "print(classification_report(Y_test, clf_predict))"
      ],
      "execution_count": 17,
      "outputs": [
        {
          "output_type": "stream",
          "text": [
            "---Normal Decision Tree Classifier: \n",
            "Classification Report\n",
            "[[37180  2742]\n",
            " [ 2564  2725]]\n",
            "              precision    recall  f1-score   support\n",
            "\n",
            "          no       0.94      0.93      0.93     39922\n",
            "         yes       0.50      0.52      0.51      5289\n",
            "\n",
            "    accuracy                           0.88     45211\n",
            "   macro avg       0.72      0.72      0.72     45211\n",
            "weighted avg       0.88      0.88      0.88     45211\n",
            "\n"
          ],
          "name": "stdout"
        }
      ]
    },
    {
      "cell_type": "code",
      "metadata": {
        "id": "PKOH0hGEFf8C",
        "colab_type": "code",
        "outputId": "1dff43ac-febe-4965-f454-a2d4d8d4bb96",
        "colab": {
          "base_uri": "https://localhost:8080/",
          "height": 204
        }
      },
      "source": [
        "#Hyperparameter Tuning\n",
        "#Using random search for Decision tree classifier\n",
        "\n",
        "parameters = {'min_samples_leaf': range(10,100,10), 'max_depth': range(5,30,5), 'criterion': ['gini', 'entropy']}\n",
        "clf_random = RandomizedSearchCV(clf, parameters, n_iter =15 , cv = 5)\n",
        "clf_random.fit(X_train, Y_train)\n",
        "random_param = clf_random.best_params_\n",
        "print(random_param)\n",
        "\n",
        "#using best parameters obtained, we create decision tree classifier\n",
        "clfr = DecisionTreeClassifier(**random_param)\n",
        "clfr.fit(X_train, Y_train)\n",
        "clfr_predict = clfr.predict(X_test)\n",
        "\n",
        "print(\"Classification report for Decision tree aftee hypertuning using random search\")\n",
        "print(classification_report(Y_test, clfr_predict))\n"
      ],
      "execution_count": 18,
      "outputs": [
        {
          "output_type": "stream",
          "text": [
            "{'min_samples_leaf': 30, 'max_depth': 5, 'criterion': 'entropy'}\n",
            "Classification report for Decision tree aftee hypertuning using random search\n",
            "              precision    recall  f1-score   support\n",
            "\n",
            "          no       0.91      0.98      0.94     39922\n",
            "         yes       0.62      0.29      0.40      5289\n",
            "\n",
            "    accuracy                           0.90     45211\n",
            "   macro avg       0.77      0.64      0.67     45211\n",
            "weighted avg       0.88      0.90      0.88     45211\n",
            "\n"
          ],
          "name": "stdout"
        }
      ]
    },
    {
      "cell_type": "code",
      "metadata": {
        "id": "q2cW-oDcFgA9",
        "colab_type": "code",
        "outputId": "65ce591e-831d-42c0-f3b1-147f9341a9b3",
        "colab": {
          "base_uri": "https://localhost:8080/",
          "height": 204
        }
      },
      "source": [
        "#Using grid search for Decision tree classifier\n",
        "\n",
        "clf_grid = GridSearchCV(clf, parameters, cv = 5)\n",
        "clf_grid.fit(X_train, Y_train)\n",
        "grid_param = clf_grid.best_params_\n",
        "print(grid_param)\n",
        "\n",
        "#using best parameters obtained, we create decision tree classifier\n",
        "clfg = DecisionTreeClassifier(**grid_param)\n",
        "clfg.fit(X_train, Y_train)\n",
        "clfg_predict = clfg.predict(X_test)\n",
        "\n",
        "print(\"Classification report for Decision tree aftee hypertuning using random search\")\n",
        "print(classification_report(Y_test, clfg_predict))"
      ],
      "execution_count": 19,
      "outputs": [
        {
          "output_type": "stream",
          "text": [
            "{'criterion': 'entropy', 'max_depth': 5, 'min_samples_leaf': 30}\n",
            "Classification report for Decision tree aftee hypertuning using random search\n",
            "              precision    recall  f1-score   support\n",
            "\n",
            "          no       0.91      0.98      0.94     39922\n",
            "         yes       0.62      0.29      0.40      5289\n",
            "\n",
            "    accuracy                           0.90     45211\n",
            "   macro avg       0.77      0.64      0.67     45211\n",
            "weighted avg       0.88      0.90      0.88     45211\n",
            "\n"
          ],
          "name": "stdout"
        }
      ]
    },
    {
      "cell_type": "code",
      "metadata": {
        "id": "oEFVPVCbFgJJ",
        "colab_type": "code",
        "outputId": "f4bcd9e5-6175-4258-9c71-1aa420c1970d",
        "colab": {
          "base_uri": "https://localhost:8080/",
          "height": 187
        }
      },
      "source": [
        "#predicting using normal random forest trees \n",
        "rfc = RandomForestClassifier()\n",
        "rfc.fit(X_train, Y_train)\n",
        "rfc_predict = rfc.predict(X_test)\n",
        "print(\"Classification report for prediction using normal random forest trees:\")\n",
        "print(classification_report(Y_test, rfc_predict))"
      ],
      "execution_count": 20,
      "outputs": [
        {
          "output_type": "stream",
          "text": [
            "Classification report for prediction using normal random forest trees:\n",
            "              precision    recall  f1-score   support\n",
            "\n",
            "          no       0.92      0.98      0.95     39922\n",
            "         yes       0.71      0.34      0.46      5289\n",
            "\n",
            "    accuracy                           0.91     45211\n",
            "   macro avg       0.82      0.66      0.70     45211\n",
            "weighted avg       0.89      0.91      0.89     45211\n",
            "\n"
          ],
          "name": "stdout"
        }
      ]
    },
    {
      "cell_type": "code",
      "metadata": {
        "id": "tvb298SxFgMv",
        "colab_type": "code",
        "outputId": "4f51efa1-80e0-4ffe-87bf-67a817495074",
        "colab": {
          "base_uri": "https://localhost:8080/",
          "height": 204
        }
      },
      "source": [
        "#Hyperparameter tuning in Random Forest trees\n",
        "#using randomized search\n",
        "\n",
        "parametersRf = {'min_samples_leaf': range(10,100,10), 'max_depth': range(5,30,5), 'criterion': ['gini', 'entropy']}\n",
        "rfc_random = RandomizedSearchCV(rfc, parametersRf, n_iter = 15, cv = 10)\n",
        "rfc_random.fit(X_test, Y_test)\n",
        "rfc_random_best_params = rfc_random.best_params_\n",
        "print(rfc_random_best_params)\n",
        "\n",
        "#using the best parameters obtained during randomized search for rfc\n",
        "rfcr = RandomForestClassifier(**rfc_random_best_params)\n",
        "rfcr.fit(X_train, Y_train)\n",
        "rfcr_predict= rfcr.predict(X_test)\n",
        "print(\"Classification report for random forest tree after hypertuning using random search\")\n",
        "print(classification_report(Y_test, rfcr_predict))"
      ],
      "execution_count": 22,
      "outputs": [
        {
          "output_type": "stream",
          "text": [
            "{'min_samples_leaf': 70, 'max_depth': 5, 'criterion': 'gini'}\n",
            "Classification report for random forest tree after hypertuning using random search\n",
            "              precision    recall  f1-score   support\n",
            "\n",
            "          no       0.88      1.00      0.94     39922\n",
            "         yes       0.89      0.00      0.01      5289\n",
            "\n",
            "    accuracy                           0.88     45211\n",
            "   macro avg       0.89      0.50      0.47     45211\n",
            "weighted avg       0.88      0.88      0.83     45211\n",
            "\n"
          ],
          "name": "stdout"
        }
      ]
    },
    {
      "cell_type": "code",
      "metadata": {
        "id": "mGGLwY6xFgQm",
        "colab_type": "code",
        "outputId": "5eafa6c0-9bbf-4692-9974-b033da78f0a5",
        "colab": {
          "base_uri": "https://localhost:8080/",
          "height": 204
        }
      },
      "source": [
        "#Hyperparameter tuning in Random Forest trees\n",
        "#using grid search\n",
        "\n",
        "rfc_grid = GridSearchCV(rfc, parameters, cv = 5)\n",
        "rfc_grid.fit(X_test, Y_test)\n",
        "rfc_grid_best_params = rfc_grid.best_params_\n",
        "print(rfc_grid_best_params)\n",
        "\n",
        "#using the best parameters obtained during randomized search for rfc\n",
        "rfcg = RandomForestClassifier(**rfc_grid_best_params)\n",
        "rfcg.fit(X_train, Y_train)\n",
        "rfcg_predict= rfcg.predict(X_test)\n",
        "print(\"Classification report for random forest tree after hypertuning using grid search\")\n",
        "print(classification_report(Y_test, rfcg_predict))"
      ],
      "execution_count": 24,
      "outputs": [
        {
          "output_type": "stream",
          "text": [
            "{'criterion': 'gini', 'max_depth': 5, 'min_samples_leaf': 90}\n",
            "Classification report for random forest tree after hypertuning using grid search\n",
            "              precision    recall  f1-score   support\n",
            "\n",
            "          no       0.88      1.00      0.94     39922\n",
            "         yes       0.00      0.00      0.00      5289\n",
            "\n",
            "    accuracy                           0.88     45211\n",
            "   macro avg       0.44      0.50      0.47     45211\n",
            "weighted avg       0.78      0.88      0.83     45211\n",
            "\n"
          ],
          "name": "stdout"
        }
      ]
    }
  ]
}